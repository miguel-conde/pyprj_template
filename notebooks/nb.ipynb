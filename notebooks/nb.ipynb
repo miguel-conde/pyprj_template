{
 "cells": [
  {
   "cell_type": "code",
   "execution_count": 1,
   "metadata": {},
   "outputs": [],
   "source": [
    "%load_ext autoreload\n",
    "%autoreload 2"
   ]
  },
  {
   "cell_type": "code",
   "execution_count": 2,
   "metadata": {},
   "outputs": [],
   "source": [
    "import globalsettings\n",
    "from libTstPyPaths import module\n",
    "import pandas as pd\n",
    "import pyarrow.feather as feather\n",
    "import pickle"
   ]
  },
  {
   "cell_type": "code",
   "execution_count": 3,
   "metadata": {},
   "outputs": [
    {
     "name": "stdout",
     "output_type": "stream",
     "text": [
      "SCRIPT - DIR_ROOT = c:\\users\\migue\\documents\\proyectos data science\\tst_paths_python\n"
     ]
    }
   ],
   "source": [
    "print(\"SCRIPT - DIR_ROOT = {}\".format(globalsettings.prj_files.dir_root))"
   ]
  },
  {
   "cell_type": "code",
   "execution_count": 4,
   "metadata": {},
   "outputs": [
    {
     "name": "stdout",
     "output_type": "stream",
     "text": [
      "MODULE - DIR_ROOT = c:\\users\\migue\\documents\\proyectos data science\\tst_paths_python\n"
     ]
    }
   ],
   "source": [
    "module.tst_fun()"
   ]
  },
  {
   "cell_type": "code",
   "execution_count": 5,
   "metadata": {},
   "outputs": [
    {
     "name": "stdout",
     "output_type": "stream",
     "text": [
      "A Global var: An example global var\n",
      "SCRIPT - prj_files.dir_data  = c:\\users\\migue\\documents\\proyectos data science\\tst_paths_python\\data\n",
      "SCRIPT - prj_files.dir_raw   = c:\\users\\migue\\documents\\proyectos data science\\tst_paths_python\\data\\raw\n",
      "SCRIPT - prj_files.dir_clean = c:\\users\\migue\\documents\\proyectos data science\\tst_paths_python\\data\\clean\n",
      "SCRIPT - prj_settings.dir_clean = 3.141592\n",
      "SCRIPT - prj_cfg.dir_clean = yes\n"
     ]
    }
   ],
   "source": [
    "print(\"A Global var: {}\".format(globalsettings.EX_VAR))\n",
    "\n",
    "print(\"SCRIPT - prj_files.dir_data  = {}\".format(globalsettings.prj_files.dir_data))\n",
    "print(\"SCRIPT - prj_files.dir_raw   = {}\".format(globalsettings.prj_files.dir_raw))\n",
    "print(\"SCRIPT - prj_files.dir_clean = {}\".format(globalsettings.prj_files.dir_clean))\n",
    "\n",
    "print(\"SCRIPT - prj_settings.dir_clean = {}\".format(globalsettings.prj_const.my_pi))\n",
    "\n",
    "print(\"SCRIPT - prj_cfg.dir_clean = {}\".format(globalsettings.prj_cfg.compression))"
   ]
  },
  {
   "cell_type": "code",
   "execution_count": 6,
   "metadata": {},
   "outputs": [],
   "source": [
    "# salsas = feather.read_feather(globalsettings.prj_files.clean_salsas_file)\n",
    "# print(salsas)"
   ]
  },
  {
   "cell_type": "code",
   "execution_count": 7,
   "metadata": {},
   "outputs": [
    {
     "name": "stdout",
     "output_type": "stream",
     "text": [
      "     AirPassangers         date\n",
      "0              112  1949.000000\n",
      "1              118  1949.083333\n",
      "2              132  1949.166667\n",
      "3              129  1949.250000\n",
      "4              121  1949.333333\n",
      "..             ...          ...\n",
      "139            606  1960.583333\n",
      "140            508  1960.666667\n",
      "141            461  1960.750000\n",
      "142            390  1960.833333\n",
      "143            432  1960.916667\n",
      "\n",
      "[144 rows x 2 columns]\n"
     ]
    }
   ],
   "source": [
    "airpass = pd.read_csv(globalsettings.prj_files.raw_airpass_file, sep = ';')\n",
    "\n",
    "print(airpass)"
   ]
  },
  {
   "cell_type": "code",
   "execution_count": 11,
   "metadata": {},
   "outputs": [],
   "source": [
    "with open(globalsettings.prj_files.all_data, 'rb') as f:\n",
    "    all_data = pickle.load(f)"
   ]
  },
  {
   "cell_type": "code",
   "execution_count": 12,
   "metadata": {},
   "outputs": [],
   "source": [
    "# print(all_data.salsas)"
   ]
  },
  {
   "cell_type": "code",
   "execution_count": 13,
   "metadata": {},
   "outputs": [
    {
     "name": "stdout",
     "output_type": "stream",
     "text": [
      "     AirPassangers         date\n",
      "0              112  1949.000000\n",
      "1              118  1949.083333\n",
      "2              132  1949.166667\n",
      "3              129  1949.250000\n",
      "4              121  1949.333333\n",
      "..             ...          ...\n",
      "139            606  1960.583333\n",
      "140            508  1960.666667\n",
      "141            461  1960.750000\n",
      "142            390  1960.833333\n",
      "143            432  1960.916667\n",
      "\n",
      "[144 rows x 2 columns]\n"
     ]
    }
   ],
   "source": [
    "print(all_data.airpass)"
   ]
  },
  {
   "cell_type": "code",
   "execution_count": 14,
   "metadata": {},
   "outputs": [
    {
     "name": "stdout",
     "output_type": "stream",
     "text": [
      "     Ozone  Solar.R  Wind  Temp  Month  Day\n",
      "0     41.0    190.0   7.4    67      5    1\n",
      "1     36.0    118.0   8.0    72      5    2\n",
      "2     12.0    149.0  12.6    74      5    3\n",
      "3     18.0    313.0  11.5    62      5    4\n",
      "4      NaN      NaN  14.3    56      5    5\n",
      "..     ...      ...   ...   ...    ...  ...\n",
      "148   30.0    193.0   6.9    70      9   26\n",
      "149    NaN    145.0  13.2    77      9   27\n",
      "150   14.0    191.0  14.3    75      9   28\n",
      "151   18.0    131.0   8.0    76      9   29\n",
      "152   20.0    223.0  11.5    68      9   30\n",
      "\n",
      "[153 rows x 6 columns]\n"
     ]
    }
   ],
   "source": [
    "print(all_data.airqual)"
   ]
  }
 ],
 "metadata": {
  "kernelspec": {
   "display_name": "Python 3.8.13 ('pym3')",
   "language": "python",
   "name": "python3"
  },
  "language_info": {
   "codemirror_mode": {
    "name": "ipython",
    "version": 3
   },
   "file_extension": ".py",
   "mimetype": "text/x-python",
   "name": "python",
   "nbconvert_exporter": "python",
   "pygments_lexer": "ipython3",
   "version": "3.7.6"
  },
  "orig_nbformat": 4,
  "vscode": {
   "interpreter": {
    "hash": "76d3f743e777793c66239ea75269c56318d028aa53629539e290e55eb6c72c42"
   }
  }
 },
 "nbformat": 4,
 "nbformat_minor": 2
}
